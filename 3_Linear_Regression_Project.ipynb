{
  "nbformat": 4,
  "nbformat_minor": 0,
  "metadata": {
    "colab": {
      "name": "3_Linear_Regression_Project.ipynb",
      "provenance": [],
      "collapsed_sections": [],
      "authorship_tag": "ABX9TyNc56NsYkhPr51vFFAxUbIk",
      "include_colab_link": true
    },
    "kernelspec": {
      "name": "python3",
      "display_name": "Python 3"
    },
    "language_info": {
      "name": "python"
    }
  },
  "cells": [
    {
      "cell_type": "markdown",
      "metadata": {
        "id": "view-in-github",
        "colab_type": "text"
      },
      "source": [
        "<a href=\"https://colab.research.google.com/github/Joshmen06/Linear-Regression-Project/blob/main/3_Linear_Regression_Project.ipynb\" target=\"_parent\"><img src=\"https://colab.research.google.com/assets/colab-badge.svg\" alt=\"Open In Colab\"/></a>"
      ]
    },
    {
      "cell_type": "code",
      "execution_count": 3,
      "metadata": {
        "id": "06x412d5Vmot"
      },
      "outputs": [],
      "source": [
        "import numpy as np\n",
        "import pandas as pd"
      ]
    },
    {
      "cell_type": "code",
      "source": [
        "data=pd.read_csv('/content/SeoulBikeData.csv')"
      ],
      "metadata": {
        "id": "ZyJxpx_BXgQK"
      },
      "execution_count": 4,
      "outputs": []
    },
    {
      "cell_type": "code",
      "source": [
        "data.head()"
      ],
      "metadata": {
        "colab": {
          "base_uri": "https://localhost:8080/",
          "height": 392
        },
        "id": "mift_My4XrRc",
        "outputId": "d4eac158-df21-4544-e8ca-5a70bf352bdd"
      },
      "execution_count": 5,
      "outputs": [
        {
          "output_type": "execute_result",
          "data": {
            "text/plain": [
              "         Date  Rented Bike Count  Hour  Temperature(C)  Humidity(%)  \\\n",
              "0  01/12/2017                254     0            -5.2           37   \n",
              "1  01/12/2017                204     1            -5.5           38   \n",
              "2  01/12/2017                173     2            -6.0           39   \n",
              "3  01/12/2017                107     3            -6.2           40   \n",
              "4  01/12/2017                 78     4            -6.0           36   \n",
              "\n",
              "   Wind speed (m/s)  Visibility (10m)  Dew point temperature(C)  \\\n",
              "0               2.2              2000                     -17.6   \n",
              "1               0.8              2000                     -17.6   \n",
              "2               1.0              2000                     -17.7   \n",
              "3               0.9              2000                     -17.6   \n",
              "4               2.3              2000                     -18.6   \n",
              "\n",
              "   Solar Radiation (MJ/m2)  Rainfall(mm)  Snowfall (cm) Seasons     Holiday  \\\n",
              "0                      0.0           0.0            0.0  Winter  No Holiday   \n",
              "1                      0.0           0.0            0.0  Winter  No Holiday   \n",
              "2                      0.0           0.0            0.0  Winter  No Holiday   \n",
              "3                      0.0           0.0            0.0  Winter  No Holiday   \n",
              "4                      0.0           0.0            0.0  Winter  No Holiday   \n",
              "\n",
              "  Functioning Day  \n",
              "0             Yes  \n",
              "1             Yes  \n",
              "2             Yes  \n",
              "3             Yes  \n",
              "4             Yes  "
            ],
            "text/html": [
              "\n",
              "  <div id=\"df-fa8aab80-5ca8-4902-952f-97aba1150432\">\n",
              "    <div class=\"colab-df-container\">\n",
              "      <div>\n",
              "<style scoped>\n",
              "    .dataframe tbody tr th:only-of-type {\n",
              "        vertical-align: middle;\n",
              "    }\n",
              "\n",
              "    .dataframe tbody tr th {\n",
              "        vertical-align: top;\n",
              "    }\n",
              "\n",
              "    .dataframe thead th {\n",
              "        text-align: right;\n",
              "    }\n",
              "</style>\n",
              "<table border=\"1\" class=\"dataframe\">\n",
              "  <thead>\n",
              "    <tr style=\"text-align: right;\">\n",
              "      <th></th>\n",
              "      <th>Date</th>\n",
              "      <th>Rented Bike Count</th>\n",
              "      <th>Hour</th>\n",
              "      <th>Temperature(C)</th>\n",
              "      <th>Humidity(%)</th>\n",
              "      <th>Wind speed (m/s)</th>\n",
              "      <th>Visibility (10m)</th>\n",
              "      <th>Dew point temperature(C)</th>\n",
              "      <th>Solar Radiation (MJ/m2)</th>\n",
              "      <th>Rainfall(mm)</th>\n",
              "      <th>Snowfall (cm)</th>\n",
              "      <th>Seasons</th>\n",
              "      <th>Holiday</th>\n",
              "      <th>Functioning Day</th>\n",
              "    </tr>\n",
              "  </thead>\n",
              "  <tbody>\n",
              "    <tr>\n",
              "      <th>0</th>\n",
              "      <td>01/12/2017</td>\n",
              "      <td>254</td>\n",
              "      <td>0</td>\n",
              "      <td>-5.2</td>\n",
              "      <td>37</td>\n",
              "      <td>2.2</td>\n",
              "      <td>2000</td>\n",
              "      <td>-17.6</td>\n",
              "      <td>0.0</td>\n",
              "      <td>0.0</td>\n",
              "      <td>0.0</td>\n",
              "      <td>Winter</td>\n",
              "      <td>No Holiday</td>\n",
              "      <td>Yes</td>\n",
              "    </tr>\n",
              "    <tr>\n",
              "      <th>1</th>\n",
              "      <td>01/12/2017</td>\n",
              "      <td>204</td>\n",
              "      <td>1</td>\n",
              "      <td>-5.5</td>\n",
              "      <td>38</td>\n",
              "      <td>0.8</td>\n",
              "      <td>2000</td>\n",
              "      <td>-17.6</td>\n",
              "      <td>0.0</td>\n",
              "      <td>0.0</td>\n",
              "      <td>0.0</td>\n",
              "      <td>Winter</td>\n",
              "      <td>No Holiday</td>\n",
              "      <td>Yes</td>\n",
              "    </tr>\n",
              "    <tr>\n",
              "      <th>2</th>\n",
              "      <td>01/12/2017</td>\n",
              "      <td>173</td>\n",
              "      <td>2</td>\n",
              "      <td>-6.0</td>\n",
              "      <td>39</td>\n",
              "      <td>1.0</td>\n",
              "      <td>2000</td>\n",
              "      <td>-17.7</td>\n",
              "      <td>0.0</td>\n",
              "      <td>0.0</td>\n",
              "      <td>0.0</td>\n",
              "      <td>Winter</td>\n",
              "      <td>No Holiday</td>\n",
              "      <td>Yes</td>\n",
              "    </tr>\n",
              "    <tr>\n",
              "      <th>3</th>\n",
              "      <td>01/12/2017</td>\n",
              "      <td>107</td>\n",
              "      <td>3</td>\n",
              "      <td>-6.2</td>\n",
              "      <td>40</td>\n",
              "      <td>0.9</td>\n",
              "      <td>2000</td>\n",
              "      <td>-17.6</td>\n",
              "      <td>0.0</td>\n",
              "      <td>0.0</td>\n",
              "      <td>0.0</td>\n",
              "      <td>Winter</td>\n",
              "      <td>No Holiday</td>\n",
              "      <td>Yes</td>\n",
              "    </tr>\n",
              "    <tr>\n",
              "      <th>4</th>\n",
              "      <td>01/12/2017</td>\n",
              "      <td>78</td>\n",
              "      <td>4</td>\n",
              "      <td>-6.0</td>\n",
              "      <td>36</td>\n",
              "      <td>2.3</td>\n",
              "      <td>2000</td>\n",
              "      <td>-18.6</td>\n",
              "      <td>0.0</td>\n",
              "      <td>0.0</td>\n",
              "      <td>0.0</td>\n",
              "      <td>Winter</td>\n",
              "      <td>No Holiday</td>\n",
              "      <td>Yes</td>\n",
              "    </tr>\n",
              "  </tbody>\n",
              "</table>\n",
              "</div>\n",
              "      <button class=\"colab-df-convert\" onclick=\"convertToInteractive('df-fa8aab80-5ca8-4902-952f-97aba1150432')\"\n",
              "              title=\"Convert this dataframe to an interactive table.\"\n",
              "              style=\"display:none;\">\n",
              "        \n",
              "  <svg xmlns=\"http://www.w3.org/2000/svg\" height=\"24px\"viewBox=\"0 0 24 24\"\n",
              "       width=\"24px\">\n",
              "    <path d=\"M0 0h24v24H0V0z\" fill=\"none\"/>\n",
              "    <path d=\"M18.56 5.44l.94 2.06.94-2.06 2.06-.94-2.06-.94-.94-2.06-.94 2.06-2.06.94zm-11 1L8.5 8.5l.94-2.06 2.06-.94-2.06-.94L8.5 2.5l-.94 2.06-2.06.94zm10 10l.94 2.06.94-2.06 2.06-.94-2.06-.94-.94-2.06-.94 2.06-2.06.94z\"/><path d=\"M17.41 7.96l-1.37-1.37c-.4-.4-.92-.59-1.43-.59-.52 0-1.04.2-1.43.59L10.3 9.45l-7.72 7.72c-.78.78-.78 2.05 0 2.83L4 21.41c.39.39.9.59 1.41.59.51 0 1.02-.2 1.41-.59l7.78-7.78 2.81-2.81c.8-.78.8-2.07 0-2.86zM5.41 20L4 18.59l7.72-7.72 1.47 1.35L5.41 20z\"/>\n",
              "  </svg>\n",
              "      </button>\n",
              "      \n",
              "  <style>\n",
              "    .colab-df-container {\n",
              "      display:flex;\n",
              "      flex-wrap:wrap;\n",
              "      gap: 12px;\n",
              "    }\n",
              "\n",
              "    .colab-df-convert {\n",
              "      background-color: #E8F0FE;\n",
              "      border: none;\n",
              "      border-radius: 50%;\n",
              "      cursor: pointer;\n",
              "      display: none;\n",
              "      fill: #1967D2;\n",
              "      height: 32px;\n",
              "      padding: 0 0 0 0;\n",
              "      width: 32px;\n",
              "    }\n",
              "\n",
              "    .colab-df-convert:hover {\n",
              "      background-color: #E2EBFA;\n",
              "      box-shadow: 0px 1px 2px rgba(60, 64, 67, 0.3), 0px 1px 3px 1px rgba(60, 64, 67, 0.15);\n",
              "      fill: #174EA6;\n",
              "    }\n",
              "\n",
              "    [theme=dark] .colab-df-convert {\n",
              "      background-color: #3B4455;\n",
              "      fill: #D2E3FC;\n",
              "    }\n",
              "\n",
              "    [theme=dark] .colab-df-convert:hover {\n",
              "      background-color: #434B5C;\n",
              "      box-shadow: 0px 1px 3px 1px rgba(0, 0, 0, 0.15);\n",
              "      filter: drop-shadow(0px 1px 2px rgba(0, 0, 0, 0.3));\n",
              "      fill: #FFFFFF;\n",
              "    }\n",
              "  </style>\n",
              "\n",
              "      <script>\n",
              "        const buttonEl =\n",
              "          document.querySelector('#df-fa8aab80-5ca8-4902-952f-97aba1150432 button.colab-df-convert');\n",
              "        buttonEl.style.display =\n",
              "          google.colab.kernel.accessAllowed ? 'block' : 'none';\n",
              "\n",
              "        async function convertToInteractive(key) {\n",
              "          const element = document.querySelector('#df-fa8aab80-5ca8-4902-952f-97aba1150432');\n",
              "          const dataTable =\n",
              "            await google.colab.kernel.invokeFunction('convertToInteractive',\n",
              "                                                     [key], {});\n",
              "          if (!dataTable) return;\n",
              "\n",
              "          const docLinkHtml = 'Like what you see? Visit the ' +\n",
              "            '<a target=\"_blank\" href=https://colab.research.google.com/notebooks/data_table.ipynb>data table notebook</a>'\n",
              "            + ' to learn more about interactive tables.';\n",
              "          element.innerHTML = '';\n",
              "          dataTable['output_type'] = 'display_data';\n",
              "          await google.colab.output.renderOutput(dataTable, element);\n",
              "          const docLink = document.createElement('div');\n",
              "          docLink.innerHTML = docLinkHtml;\n",
              "          element.appendChild(docLink);\n",
              "        }\n",
              "      </script>\n",
              "    </div>\n",
              "  </div>\n",
              "  "
            ]
          },
          "metadata": {},
          "execution_count": 5
        }
      ]
    },
    {
      "cell_type": "code",
      "source": [
        "data.columns"
      ],
      "metadata": {
        "colab": {
          "base_uri": "https://localhost:8080/"
        },
        "id": "fjRh9LXNXx-T",
        "outputId": "ffea9ce4-1076-4774-f70d-a89063b3c205"
      },
      "execution_count": 6,
      "outputs": [
        {
          "output_type": "execute_result",
          "data": {
            "text/plain": [
              "Index(['Date', 'Rented Bike Count', 'Hour', 'Temperature(C)', 'Humidity(%)',\n",
              "       'Wind speed (m/s)', 'Visibility (10m)', 'Dew point temperature(C)',\n",
              "       'Solar Radiation (MJ/m2)', 'Rainfall(mm)', 'Snowfall (cm)', 'Seasons',\n",
              "       'Holiday', 'Functioning Day'],\n",
              "      dtype='object')"
            ]
          },
          "metadata": {},
          "execution_count": 6
        }
      ]
    },
    {
      "cell_type": "markdown",
      "source": [
        "Minorlly or Majorly these all are the factors that influence the RBC Column\n"
      ],
      "metadata": {
        "id": "Eay3l2_vYJ2N"
      }
    },
    {
      "cell_type": "markdown",
      "source": [
        "**Checking for Missing values**"
      ],
      "metadata": {
        "id": "L_v1xHoHZ-bc"
      }
    },
    {
      "cell_type": "code",
      "source": [
        "data.isna().sum()"
      ],
      "metadata": {
        "colab": {
          "base_uri": "https://localhost:8080/"
        },
        "id": "pbGstF3FYUo8",
        "outputId": "5df32bdc-66ef-455b-d6dd-bd83895e5685"
      },
      "execution_count": 7,
      "outputs": [
        {
          "output_type": "execute_result",
          "data": {
            "text/plain": [
              "Date                        0\n",
              "Rented Bike Count           0\n",
              "Hour                        0\n",
              "Temperature(C)              0\n",
              "Humidity(%)                 0\n",
              "Wind speed (m/s)            0\n",
              "Visibility (10m)            0\n",
              "Dew point temperature(C)    0\n",
              "Solar Radiation (MJ/m2)     0\n",
              "Rainfall(mm)                0\n",
              "Snowfall (cm)               0\n",
              "Seasons                     0\n",
              "Holiday                     0\n",
              "Functioning Day             0\n",
              "dtype: int64"
            ]
          },
          "metadata": {},
          "execution_count": 7
        }
      ]
    },
    {
      "cell_type": "markdown",
      "source": [
        "There are no missing values"
      ],
      "metadata": {
        "id": "SSmlMiC3aH1K"
      }
    },
    {
      "cell_type": "markdown",
      "source": [
        "**Checking data for outliers**"
      ],
      "metadata": {
        "id": "Ej53bv30aJ1-"
      }
    },
    {
      "cell_type": "code",
      "source": [
        "import seaborn as sns"
      ],
      "metadata": {
        "id": "xpfLhyEAaQvt"
      },
      "execution_count": 8,
      "outputs": []
    },
    {
      "cell_type": "code",
      "source": [
        "data['Rented Bike Count'].value_counts()"
      ],
      "metadata": {
        "colab": {
          "base_uri": "https://localhost:8080/"
        },
        "id": "LOfQtvzRamLM",
        "outputId": "cd689a15-68eb-47be-a1ae-bcf9ae010b16"
      },
      "execution_count": 9,
      "outputs": [
        {
          "output_type": "execute_result",
          "data": {
            "text/plain": [
              "0       295\n",
              "122      19\n",
              "223      19\n",
              "262      19\n",
              "165      18\n",
              "       ... \n",
              "2096      1\n",
              "2440      1\n",
              "1600      1\n",
              "3384      1\n",
              "595       1\n",
              "Name: Rented Bike Count, Length: 2166, dtype: int64"
            ]
          },
          "metadata": {},
          "execution_count": 9
        }
      ]
    },
    {
      "cell_type": "code",
      "source": [
        "sns.boxplot(data['Rented Bike Count'])"
      ],
      "metadata": {
        "colab": {
          "base_uri": "https://localhost:8080/",
          "height": 351
        },
        "id": "yZH4G1jFaErv",
        "outputId": "4fc36475-21f2-42dd-f303-975c11e62851"
      },
      "execution_count": 10,
      "outputs": [
        {
          "output_type": "stream",
          "name": "stderr",
          "text": [
            "/usr/local/lib/python3.7/dist-packages/seaborn/_decorators.py:43: FutureWarning: Pass the following variable as a keyword arg: x. From version 0.12, the only valid positional argument will be `data`, and passing other arguments without an explicit keyword will result in an error or misinterpretation.\n",
            "  FutureWarning\n"
          ]
        },
        {
          "output_type": "execute_result",
          "data": {
            "text/plain": [
              "<matplotlib.axes._subplots.AxesSubplot at 0x7f6c224cd310>"
            ]
          },
          "metadata": {},
          "execution_count": 10
        },
        {
          "output_type": "display_data",
          "data": {
            "text/plain": [
              "<Figure size 432x288 with 1 Axes>"
            ],
            "image/png": "[encoded data removed]"
          },
          "metadata": {
            "needs_background": "light"
          }
        }
      ]
    },
    {
      "cell_type": "code",
      "source": [
        "Q1= np.percentile(data['Rented Bike Count'],25,interpolation='midpoint')\n",
        "Q2= np.percentile(data['Rented Bike Count'],50,interpolation='midpoint')\n",
        "Q3= np.percentile(data['Rented Bike Count'],75,interpolation='midpoint')\n",
        "IQR= Q3-Q1\n",
        "low_limit= Q1 - 1.5* IQR\n",
        "upper_limit= Q3 + 1.5*IQR\n",
        "print(low_limit)\n",
        "print(upper_limit)"
      ],
      "metadata": {
        "colab": {
          "base_uri": "https://localhost:8080/"
        },
        "id": "nCXS1uAMajXn",
        "outputId": "61ce7573-b533-48fa-cd5c-f36ab78e6388"
      },
      "execution_count": 11,
      "outputs": [
        {
          "output_type": "stream",
          "name": "stdout",
          "text": [
            "-1120.75\n",
            "2377.25\n"
          ]
        }
      ]
    },
    {
      "cell_type": "code",
      "source": [
        "Bikes_data= data[data['Rented Bike Count']<upper_limit]\n",
        "Bikes_data=Bikes_data[Bikes_data['Rented Bike Count']>low_limit]\n"
      ],
      "metadata": {
        "id": "y3MMzaK3b1FJ"
      },
      "execution_count": 12,
      "outputs": []
    },
    {
      "cell_type": "code",
      "source": [
        "sns.boxplot(Bikes_data['Rented Bike Count'])"
      ],
      "metadata": {
        "colab": {
          "base_uri": "https://localhost:8080/",
          "height": 351
        },
        "id": "z9r1TFR1ckSc",
        "outputId": "cf5b8f01-da0c-40f4-e707-776119316320"
      },
      "execution_count": 13,
      "outputs": [
        {
          "output_type": "stream",
          "name": "stderr",
          "text": [
            "/usr/local/lib/python3.7/dist-packages/seaborn/_decorators.py:43: FutureWarning: Pass the following variable as a keyword arg: x. From version 0.12, the only valid positional argument will be `data`, and passing other arguments without an explicit keyword will result in an error or misinterpretation.\n",
            "  FutureWarning\n"
          ]
        },
        {
          "output_type": "execute_result",
          "data": {
            "text/plain": [
              "<matplotlib.axes._subplots.AxesSubplot at 0x7f6c223c10d0>"
            ]
          },
          "metadata": {},
          "execution_count": 13
        },
        {
          "output_type": "display_data",
          "data": {
            "text/plain": [
              "<Figure size 432x288 with 1 Axes>"
            ],
            "image/png": "[encoded data removed]"
          },
          "metadata": {
            "needs_background": "light"
          }
        }
      ]
    },
    {
      "cell_type": "code",
      "source": [
        "Bikes_data['Wind speed (m/s)'].value_counts()"
      ],
      "metadata": {
        "colab": {
          "base_uri": "https://localhost:8080/"
        },
        "id": "rap4nawidDb5",
        "outputId": "e5074a5c-5e4e-48f4-c53c-debbd50acaf1"
      },
      "execution_count": 14,
      "outputs": [
        {
          "output_type": "execute_result",
          "data": {
            "text/plain": [
              "1.1    415\n",
              "1.2    401\n",
              "0.9    385\n",
              "0.8    384\n",
              "1.0    384\n",
              "      ... \n",
              "7.2      1\n",
              "6.1      1\n",
              "7.3      1\n",
              "6.9      1\n",
              "5.7      1\n",
              "Name: Wind speed (m/s), Length: 65, dtype: int64"
            ]
          },
          "metadata": {},
          "execution_count": 14
        }
      ]
    },
    {
      "cell_type": "code",
      "source": [
        "sns.boxplot(Bikes_data['Wind speed (m/s)'])"
      ],
      "metadata": {
        "colab": {
          "base_uri": "https://localhost:8080/",
          "height": 351
        },
        "id": "BE8k3HtElSTZ",
        "outputId": "687ef1a6-d380-4ae4-d91f-ec445048ed8c"
      },
      "execution_count": 15,
      "outputs": [
        {
          "output_type": "stream",
          "name": "stderr",
          "text": [
            "/usr/local/lib/python3.7/dist-packages/seaborn/_decorators.py:43: FutureWarning: Pass the following variable as a keyword arg: x. From version 0.12, the only valid positional argument will be `data`, and passing other arguments without an explicit keyword will result in an error or misinterpretation.\n",
            "  FutureWarning\n"
          ]
        },
        {
          "output_type": "execute_result",
          "data": {
            "text/plain": [
              "<matplotlib.axes._subplots.AxesSubplot at 0x7f6c21ee93d0>"
            ]
          },
          "metadata": {},
          "execution_count": 15
        },
        {
          "output_type": "display_data",
          "data": {
            "text/plain": [
              "<Figure size 432x288 with 1 Axes>"
            ],
            "image/png": "[encoded data removed]"
          },
          "metadata": {
            "needs_background": "light"
          }
        }
      ]
    },
    {
      "cell_type": "code",
      "source": [
        "Q1= np.percentile(Bikes_data['Wind speed (m/s)'],25,interpolation='midpoint')\n",
        "Q2= np.percentile(Bikes_data['Wind speed (m/s)'],50,interpolation='midpoint')\n",
        "Q3= np.percentile(Bikes_data['Wind speed (m/s)'],75,interpolation='midpoint')\n",
        "IQR= Q3-Q1\n",
        "low_limit= Q1 - 1.5* IQR\n",
        "upper_limit= Q3 + 1.5*IQR\n",
        "print(low_limit)\n",
        "print(upper_limit)"
      ],
      "metadata": {
        "colab": {
          "base_uri": "https://localhost:8080/"
        },
        "id": "yiSX8xlSlcrc",
        "outputId": "e678ad11-ed46-4202-ce3a-b7c5e2bd244c"
      },
      "execution_count": 16,
      "outputs": [
        {
          "output_type": "stream",
          "name": "stdout",
          "text": [
            "-1.1999999999999997\n",
            "4.3999999999999995\n"
          ]
        }
      ]
    },
    {
      "cell_type": "code",
      "source": [
        "Bikes_data= data[data['Wind speed (m/s)']<upper_limit]\n",
        "Bikes_data=Bikes_data[Bikes_data['Wind speed (m/s)']>low_limit]"
      ],
      "metadata": {
        "id": "6xtk3FXulrIP"
      },
      "execution_count": 17,
      "outputs": []
    },
    {
      "cell_type": "code",
      "source": [
        "sns.boxplot(Bikes_data['Wind speed (m/s)'])"
      ],
      "metadata": {
        "colab": {
          "base_uri": "https://localhost:8080/",
          "height": 351
        },
        "id": "E43Ig5XylzE1",
        "outputId": "39bf629f-7f7e-460b-8d25-98c459dd3948"
      },
      "execution_count": 18,
      "outputs": [
        {
          "output_type": "stream",
          "name": "stderr",
          "text": [
            "/usr/local/lib/python3.7/dist-packages/seaborn/_decorators.py:43: FutureWarning: Pass the following variable as a keyword arg: x. From version 0.12, the only valid positional argument will be `data`, and passing other arguments without an explicit keyword will result in an error or misinterpretation.\n",
            "  FutureWarning\n"
          ]
        },
        {
          "output_type": "execute_result",
          "data": {
            "text/plain": [
              "<matplotlib.axes._subplots.AxesSubplot at 0x7f6c21e7e1d0>"
            ]
          },
          "metadata": {},
          "execution_count": 18
        },
        {
          "output_type": "display_data",
          "data": {
            "text/plain": [
              "<Figure size 432x288 with 1 Axes>"
            ],
            "image/png": "[encoded data removed]"
          },
          "metadata": {
            "needs_background": "light"
          }
        }
      ]
    },
    {
      "cell_type": "code",
      "source": [
        "Bikes_data['Solar Radiation (MJ/m2)'].value_counts()"
      ],
      "metadata": {
        "colab": {
          "base_uri": "https://localhost:8080/"
        },
        "id": "_5K1BA_GmcmF",
        "outputId": "f1b2a6d1-1170-40db-d431-16e2933b0bd3"
      },
      "execution_count": 19,
      "outputs": [
        {
          "output_type": "execute_result",
          "data": {
            "text/plain": [
              "0.00    4273\n",
              "0.01     127\n",
              "0.02      81\n",
              "0.03      67\n",
              "0.06      61\n",
              "        ... \n",
              "2.97       1\n",
              "2.76       1\n",
              "3.44       1\n",
              "3.35       1\n",
              "3.45       1\n",
              "Name: Solar Radiation (MJ/m2), Length: 345, dtype: int64"
            ]
          },
          "metadata": {},
          "execution_count": 19
        }
      ]
    },
    {
      "cell_type": "code",
      "source": [
        "sns.boxplot(Bikes_data['Solar Radiation (MJ/m2)'])"
      ],
      "metadata": {
        "colab": {
          "base_uri": "https://localhost:8080/",
          "height": 351
        },
        "id": "uet98LRaoW_1",
        "outputId": "79a88ebc-e294-42b0-f42b-da3563c37bda"
      },
      "execution_count": 20,
      "outputs": [
        {
          "output_type": "stream",
          "name": "stderr",
          "text": [
            "/usr/local/lib/python3.7/dist-packages/seaborn/_decorators.py:43: FutureWarning: Pass the following variable as a keyword arg: x. From version 0.12, the only valid positional argument will be `data`, and passing other arguments without an explicit keyword will result in an error or misinterpretation.\n",
            "  FutureWarning\n"
          ]
        },
        {
          "output_type": "execute_result",
          "data": {
            "text/plain": [
              "<matplotlib.axes._subplots.AxesSubplot at 0x7f6c21de7110>"
            ]
          },
          "metadata": {},
          "execution_count": 20
        },
        {
          "output_type": "display_data",
          "data": {
            "text/plain": [
              "<Figure size 432x288 with 1 Axes>"
            ],
            "image/png": "[encoded data removed]"
          },
          "metadata": {
            "needs_background": "light"
          }
        }
      ]
    },
    {
      "cell_type": "code",
      "source": [
        "Q1= np.percentile(Bikes_data['Solar Radiation (MJ/m2)'],25,interpolation='midpoint')\n",
        "Q2= np.percentile(Bikes_data['Solar Radiation (MJ/m2)'],50,interpolation='midpoint')\n",
        "Q3= np.percentile(Bikes_data['Solar Radiation (MJ/m2)'],75,interpolation='midpoint')\n",
        "IQR= Q3-Q1\n",
        "low_limit= Q1 - 1.5* IQR\n",
        "upper_limit= Q3 + 1.5*IQR\n",
        "print(low_limit)\n",
        "print(upper_limit)"
      ],
      "metadata": {
        "colab": {
          "base_uri": "https://localhost:8080/"
        },
        "id": "9lz81kDbomTc",
        "outputId": "ec615cd3-85ce-4f44-dadd-cbf05a1b47dd"
      },
      "execution_count": 21,
      "outputs": [
        {
          "output_type": "stream",
          "name": "stdout",
          "text": [
            "-1.35\n",
            "2.25\n"
          ]
        }
      ]
    },
    {
      "cell_type": "code",
      "source": [
        "Bikes_data= data[data['Solar Radiation (MJ/m2)']<upper_limit]\n",
        "Bikes_data=Bikes_data[Bikes_data['Solar Radiation (MJ/m2)']>low_limit]"
      ],
      "metadata": {
        "id": "35m8YhEuo7qp"
      },
      "execution_count": 22,
      "outputs": []
    },
    {
      "cell_type": "code",
      "source": [
        "sns.boxplot(Bikes_data['Solar Radiation (MJ/m2)'])"
      ],
      "metadata": {
        "colab": {
          "base_uri": "https://localhost:8080/",
          "height": 351
        },
        "id": "ID1gKsHlpJgm",
        "outputId": "b12f9cc1-7664-47cc-8f07-c45ec3237067"
      },
      "execution_count": 23,
      "outputs": [
        {
          "output_type": "stream",
          "name": "stderr",
          "text": [
            "/usr/local/lib/python3.7/dist-packages/seaborn/_decorators.py:43: FutureWarning: Pass the following variable as a keyword arg: x. From version 0.12, the only valid positional argument will be `data`, and passing other arguments without an explicit keyword will result in an error or misinterpretation.\n",
            "  FutureWarning\n"
          ]
        },
        {
          "output_type": "execute_result",
          "data": {
            "text/plain": [
              "<matplotlib.axes._subplots.AxesSubplot at 0x7f6c21dd5990>"
            ]
          },
          "metadata": {},
          "execution_count": 23
        },
        {
          "output_type": "display_data",
          "data": {
            "text/plain": [
              "<Figure size 432x288 with 1 Axes>"
            ],
            "image/png": "[encoded data removed]"
          },
          "metadata": {
            "needs_background": "light"
          }
        }
      ]
    },
    {
      "cell_type": "code",
      "source": [
        "from datetime import datetime\n",
        "data.Date=pd.to_datetime(data.Date )\n",
        "data.info()\n",
        "data['Month']=pd.DatetimeIndex(data['Date']).month\n",
        "data['Year']=pd.DatetimeIndex(data['Date']).year\n",
        "data['day']=pd.DatetimeIndex(data['Date']).day\n",
        "data.head()"
      ],
      "metadata": {
        "colab": {
          "base_uri": "https://localhost:8080/",
          "height": 756
        },
        "id": "npTKRc7fs0yk",
        "outputId": "6060dff6-2e66-41b9-cb86-07072daeea7c"
      },
      "execution_count": 24,
      "outputs": [
        {
          "output_type": "stream",
          "name": "stdout",
          "text": [
            "<class 'pandas.core.frame.DataFrame'>\n",
            "RangeIndex: 8760 entries, 0 to 8759\n",
            "Data columns (total 14 columns):\n",
            " #   Column                    Non-Null Count  Dtype         \n",
            "---  ------                    --------------  -----         \n",
            " 0   Date                      8760 non-null   datetime64[ns]\n",
            " 1   Rented Bike Count         8760 non-null   int64         \n",
            " 2   Hour                      8760 non-null   int64         \n",
            " 3   Temperature(C)            8760 non-null   float64       \n",
            " 4   Humidity(%)               8760 non-null   int64         \n",
            " 5   Wind speed (m/s)          8760 non-null   float64       \n",
            " 6   Visibility (10m)          8760 non-null   int64         \n",
            " 7   Dew point temperature(C)  8760 non-null   float64       \n",
            " 8   Solar Radiation (MJ/m2)   8760 non-null   float64       \n",
            " 9   Rainfall(mm)              8760 non-null   float64       \n",
            " 10  Snowfall (cm)             8760 non-null   float64       \n",
            " 11  Seasons                   8760 non-null   object        \n",
            " 12  Holiday                   8760 non-null   object        \n",
            " 13  Functioning Day           8760 non-null   object        \n",
            "dtypes: datetime64[ns](1), float64(6), int64(4), object(3)\n",
            "memory usage: 958.2+ KB\n"
          ]
        },
        {
          "output_type": "execute_result",
          "data": {
            "text/plain": [
              "        Date  Rented Bike Count  Hour  Temperature(C)  Humidity(%)  \\\n",
              "0 2017-01-12                254     0            -5.2           37   \n",
              "1 2017-01-12                204     1            -5.5           38   \n",
              "2 2017-01-12                173     2            -6.0           39   \n",
              "3 2017-01-12                107     3            -6.2           40   \n",
              "4 2017-01-12                 78     4            -6.0           36   \n",
              "\n",
              "   Wind speed (m/s)  Visibility (10m)  Dew point temperature(C)  \\\n",
              "0               2.2              2000                     -17.6   \n",
              "1               0.8              2000                     -17.6   \n",
              "2               1.0              2000                     -17.7   \n",
              "3               0.9              2000                     -17.6   \n",
              "4               2.3              2000                     -18.6   \n",
              "\n",
              "   Solar Radiation (MJ/m2)  Rainfall(mm)  Snowfall (cm) Seasons     Holiday  \\\n",
              "0                      0.0           0.0            0.0  Winter  No Holiday   \n",
              "1                      0.0           0.0            0.0  Winter  No Holiday   \n",
              "2                      0.0           0.0            0.0  Winter  No Holiday   \n",
              "3                      0.0           0.0            0.0  Winter  No Holiday   \n",
              "4                      0.0           0.0            0.0  Winter  No Holiday   \n",
              "\n",
              "  Functioning Day  Month  Year  day  \n",
              "0             Yes      1  2017   12  \n",
              "1             Yes      1  2017   12  \n",
              "2             Yes      1  2017   12  \n",
              "3             Yes      1  2017   12  \n",
              "4             Yes      1  2017   12  "
            ],
            "text/html": [
              "\n",
              "  <div id=\"df-3ca986da-826b-4c90-91bd-9a214e00908b\">\n",
              "    <div class=\"colab-df-container\">\n",
              "      <div>\n",
              "<style scoped>\n",
              "    .dataframe tbody tr th:only-of-type {\n",
              "        vertical-align: middle;\n",
              "    }\n",
              "\n",
              "    .dataframe tbody tr th {\n",
              "        vertical-align: top;\n",
              "    }\n",
              "\n",
              "    .dataframe thead th {\n",
              "        text-align: right;\n",
              "    }\n",
              "</style>\n",
              "<table border=\"1\" class=\"dataframe\">\n",
              "  <thead>\n",
              "    <tr style=\"text-align: right;\">\n",
              "      <th></th>\n",
              "      <th>Date</th>\n",
              "      <th>Rented Bike Count</th>\n",
              "      <th>Hour</th>\n",
              "      <th>Temperature(C)</th>\n",
              "      <th>Humidity(%)</th>\n",
              "      <th>Wind speed (m/s)</th>\n",
              "      <th>Visibility (10m)</th>\n",
              "      <th>Dew point temperature(C)</th>\n",
              "      <th>Solar Radiation (MJ/m2)</th>\n",
              "      <th>Rainfall(mm)</th>\n",
              "      <th>Snowfall (cm)</th>\n",
              "      <th>Seasons</th>\n",
              "      <th>Holiday</th>\n",
              "      <th>Functioning Day</th>\n",
              "      <th>Month</th>\n",
              "      <th>Year</th>\n",
              "      <th>day</th>\n",
              "    </tr>\n",
              "  </thead>\n",
              "  <tbody>\n",
              "    <tr>\n",
              "      <th>0</th>\n",
              "      <td>2017-01-12</td>\n",
              "      <td>254</td>\n",
              "      <td>0</td>\n",
              "      <td>-5.2</td>\n",
              "      <td>37</td>\n",
              "      <td>2.2</td>\n",
              "      <td>2000</td>\n",
              "      <td>-17.6</td>\n",
              "      <td>0.0</td>\n",
              "      <td>0.0</td>\n",
              "      <td>0.0</td>\n",
              "      <td>Winter</td>\n",
              "      <td>No Holiday</td>\n",
              "      <td>Yes</td>\n",
              "      <td>1</td>\n",
              "      <td>2017</td>\n",
              "      <td>12</td>\n",
              "    </tr>\n",
              "    <tr>\n",
              "      <th>1</th>\n",
              "      <td>2017-01-12</td>\n",
              "      <td>204</td>\n",
              "      <td>1</td>\n",
              "      <td>-5.5</td>\n",
              "      <td>38</td>\n",
              "      <td>0.8</td>\n",
              "      <td>2000</td>\n",
              "      <td>-17.6</td>\n",
              "      <td>0.0</td>\n",
              "      <td>0.0</td>\n",
              "      <td>0.0</td>\n",
              "      <td>Winter</td>\n",
              "      <td>No Holiday</td>\n",
              "      <td>Yes</td>\n",
              "      <td>1</td>\n",
              "      <td>2017</td>\n",
              "      <td>12</td>\n",
              "    </tr>\n",
              "    <tr>\n",
              "      <th>2</th>\n",
              "      <td>2017-01-12</td>\n",
              "      <td>173</td>\n",
              "      <td>2</td>\n",
              "      <td>-6.0</td>\n",
              "      <td>39</td>\n",
              "      <td>1.0</td>\n",
              "      <td>2000</td>\n",
              "      <td>-17.7</td>\n",
              "      <td>0.0</td>\n",
              "      <td>0.0</td>\n",
              "      <td>0.0</td>\n",
              "      <td>Winter</td>\n",
              "      <td>No Holiday</td>\n",
              "      <td>Yes</td>\n",
              "      <td>1</td>\n",
              "      <td>2017</td>\n",
              "      <td>12</td>\n",
              "    </tr>\n",
              "    <tr>\n",
              "      <th>3</th>\n",
              "      <td>2017-01-12</td>\n",
              "      <td>107</td>\n",
              "      <td>3</td>\n",
              "      <td>-6.2</td>\n",
              "      <td>40</td>\n",
              "      <td>0.9</td>\n",
              "      <td>2000</td>\n",
              "      <td>-17.6</td>\n",
              "      <td>0.0</td>\n",
              "      <td>0.0</td>\n",
              "      <td>0.0</td>\n",
              "      <td>Winter</td>\n",
              "      <td>No Holiday</td>\n",
              "      <td>Yes</td>\n",
              "      <td>1</td>\n",
              "      <td>2017</td>\n",
              "      <td>12</td>\n",
              "    </tr>\n",
              "    <tr>\n",
              "      <th>4</th>\n",
              "      <td>2017-01-12</td>\n",
              "      <td>78</td>\n",
              "      <td>4</td>\n",
              "      <td>-6.0</td>\n",
              "      <td>36</td>\n",
              "      <td>2.3</td>\n",
              "      <td>2000</td>\n",
              "      <td>-18.6</td>\n",
              "      <td>0.0</td>\n",
              "      <td>0.0</td>\n",
              "      <td>0.0</td>\n",
              "      <td>Winter</td>\n",
              "      <td>No Holiday</td>\n",
              "      <td>Yes</td>\n",
              "      <td>1</td>\n",
              "      <td>2017</td>\n",
              "      <td>12</td>\n",
              "    </tr>\n",
              "  </tbody>\n",
              "</table>\n",
              "</div>\n",
              "      <button class=\"colab-df-convert\" onclick=\"convertToInteractive('df-3ca986da-826b-4c90-91bd-9a214e00908b')\"\n",
              "              title=\"Convert this dataframe to an interactive table.\"\n",
              "              style=\"display:none;\">\n",
              "        \n",
              "  <svg xmlns=\"http://www.w3.org/2000/svg\" height=\"24px\"viewBox=\"0 0 24 24\"\n",
              "       width=\"24px\">\n",
              "    <path d=\"M0 0h24v24H0V0z\" fill=\"none\"/>\n",
              "    <path d=\"M18.56 5.44l.94 2.06.94-2.06 2.06-.94-2.06-.94-.94-2.06-.94 2.06-2.06.94zm-11 1L8.5 8.5l.94-2.06 2.06-.94-2.06-.94L8.5 2.5l-.94 2.06-2.06.94zm10 10l.94 2.06.94-2.06 2.06-.94-2.06-.94-.94-2.06-.94 2.06-2.06.94z\"/><path d=\"M17.41 7.96l-1.37-1.37c-.4-.4-.92-.59-1.43-.59-.52 0-1.04.2-1.43.59L10.3 9.45l-7.72 7.72c-.78.78-.78 2.05 0 2.83L4 21.41c.39.39.9.59 1.41.59.51 0 1.02-.2 1.41-.59l7.78-7.78 2.81-2.81c.8-.78.8-2.07 0-2.86zM5.41 20L4 18.59l7.72-7.72 1.47 1.35L5.41 20z\"/>\n",
              "  </svg>\n",
              "      </button>\n",
              "      \n",
              "  <style>\n",
              "    .colab-df-container {\n",
              "      display:flex;\n",
              "      flex-wrap:wrap;\n",
              "      gap: 12px;\n",
              "    }\n",
              "\n",
              "    .colab-df-convert {\n",
              "      background-color: #E8F0FE;\n",
              "      border: none;\n",
              "      border-radius: 50%;\n",
              "      cursor: pointer;\n",
              "      display: none;\n",
              "      fill: #1967D2;\n",
              "      height: 32px;\n",
              "      padding: 0 0 0 0;\n",
              "      width: 32px;\n",
              "    }\n",
              "\n",
              "    .colab-df-convert:hover {\n",
              "      background-color: #E2EBFA;\n",
              "      box-shadow: 0px 1px 2px rgba(60, 64, 67, 0.3), 0px 1px 3px 1px rgba(60, 64, 67, 0.15);\n",
              "      fill: #174EA6;\n",
              "    }\n",
              "\n",
              "    [theme=dark] .colab-df-convert {\n",
              "      background-color: #3B4455;\n",
              "      fill: #D2E3FC;\n",
              "    }\n",
              "\n",
              "    [theme=dark] .colab-df-convert:hover {\n",
              "      background-color: #434B5C;\n",
              "      box-shadow: 0px 1px 3px 1px rgba(0, 0, 0, 0.15);\n",
              "      filter: drop-shadow(0px 1px 2px rgba(0, 0, 0, 0.3));\n",
              "      fill: #FFFFFF;\n",
              "    }\n",
              "  </style>\n",
              "\n",
              "      <script>\n",
              "        const buttonEl =\n",
              "          document.querySelector('#df-3ca986da-826b-4c90-91bd-9a214e00908b button.colab-df-convert');\n",
              "        buttonEl.style.display =\n",
              "          google.colab.kernel.accessAllowed ? 'block' : 'none';\n",
              "\n",
              "        async function convertToInteractive(key) {\n",
              "          const element = document.querySelector('#df-3ca986da-826b-4c90-91bd-9a214e00908b');\n",
              "          const dataTable =\n",
              "            await google.colab.kernel.invokeFunction('convertToInteractive',\n",
              "                                                     [key], {});\n",
              "          if (!dataTable) return;\n",
              "\n",
              "          const docLinkHtml = 'Like what you see? Visit the ' +\n",
              "            '<a target=\"_blank\" href=https://colab.research.google.com/notebooks/data_table.ipynb>data table notebook</a>'\n",
              "            + ' to learn more about interactive tables.';\n",
              "          element.innerHTML = '';\n",
              "          dataTable['output_type'] = 'display_data';\n",
              "          await google.colab.output.renderOutput(dataTable, element);\n",
              "          const docLink = document.createElement('div');\n",
              "          docLink.innerHTML = docLinkHtml;\n",
              "          element.appendChild(docLink);\n",
              "        }\n",
              "      </script>\n",
              "    </div>\n",
              "  </div>\n",
              "  "
            ]
          },
          "metadata": {},
          "execution_count": 24
        }
      ]
    },
    {
      "cell_type": "code",
      "source": [
        "data.info()"
      ],
      "metadata": {
        "colab": {
          "base_uri": "https://localhost:8080/"
        },
        "id": "nS2ADoZes2wv",
        "outputId": "6615f5bf-4e69-4194-b2b1-73ccda4b0b50"
      },
      "execution_count": 25,
      "outputs": [
        {
          "output_type": "stream",
          "name": "stdout",
          "text": [
            "<class 'pandas.core.frame.DataFrame'>\n",
            "RangeIndex: 8760 entries, 0 to 8759\n",
            "Data columns (total 17 columns):\n",
            " #   Column                    Non-Null Count  Dtype         \n",
            "---  ------                    --------------  -----         \n",
            " 0   Date                      8760 non-null   datetime64[ns]\n",
            " 1   Rented Bike Count         8760 non-null   int64         \n",
            " 2   Hour                      8760 non-null   int64         \n",
            " 3   Temperature(C)            8760 non-null   float64       \n",
            " 4   Humidity(%)               8760 non-null   int64         \n",
            " 5   Wind speed (m/s)          8760 non-null   float64       \n",
            " 6   Visibility (10m)          8760 non-null   int64         \n",
            " 7   Dew point temperature(C)  8760 non-null   float64       \n",
            " 8   Solar Radiation (MJ/m2)   8760 non-null   float64       \n",
            " 9   Rainfall(mm)              8760 non-null   float64       \n",
            " 10  Snowfall (cm)             8760 non-null   float64       \n",
            " 11  Seasons                   8760 non-null   object        \n",
            " 12  Holiday                   8760 non-null   object        \n",
            " 13  Functioning Day           8760 non-null   object        \n",
            " 14  Month                     8760 non-null   int64         \n",
            " 15  Year                      8760 non-null   int64         \n",
            " 16  day                       8760 non-null   int64         \n",
            "dtypes: datetime64[ns](1), float64(6), int64(7), object(3)\n",
            "memory usage: 1.1+ MB\n"
          ]
        }
      ]
    },
    {
      "cell_type": "code",
      "source": [
        "data.Seasons.unique()"
      ],
      "metadata": {
        "colab": {
          "base_uri": "https://localhost:8080/"
        },
        "id": "ZDftUDXDEe7b",
        "outputId": "f8ccb917-999b-4b1b-c4a0-dc4b63ccf098"
      },
      "execution_count": 44,
      "outputs": [
        {
          "output_type": "execute_result",
          "data": {
            "text/plain": [
              "array(['Winter', 'Spring', 'Summer', 'Autumn'], dtype=object)"
            ]
          },
          "metadata": {},
          "execution_count": 44
        }
      ]
    },
    {
      "cell_type": "code",
      "source": [
        "data_corr = data.corr()\n",
        "data_corr"
      ],
      "metadata": {
        "colab": {
          "base_uri": "https://localhost:8080/",
          "height": 747
        },
        "id": "-4zz8lvfuZ3h",
        "outputId": "b6ea1f17-4668-432c-ecf2-71f51685a622"
      },
      "execution_count": 26,
      "outputs": [
        {
          "output_type": "execute_result",
          "data": {
            "text/plain": [
              "                          Rented Bike Count          Hour  Temperature(C)  \\\n",
              "Rented Bike Count                  1.000000  4.102573e-01        0.538558   \n",
              "Hour                               0.410257  1.000000e+00        0.124114   \n",
              "Temperature(C)                     0.538558  1.241145e-01        1.000000   \n",
              "Humidity(%)                       -0.199780 -2.416438e-01        0.159371   \n",
              "Wind speed (m/s)                   0.121108  2.851967e-01       -0.036252   \n",
              "Visibility (10m)                   0.199280  9.875348e-02        0.034794   \n",
              "Dew point temperature(C)           0.379788  3.054372e-03        0.912798   \n",
              "Solar Radiation (MJ/m2)            0.261837  1.451309e-01        0.353505   \n",
              "Rainfall(mm)                      -0.123074  8.714642e-03        0.050282   \n",
              "Snowfall (cm)                     -0.141804 -2.151645e-02       -0.218405   \n",
              "Month                              0.070861  1.036729e-15        0.049683   \n",
              "Year                               0.215162  2.336763e-14        0.377796   \n",
              "day                                0.046849  4.206322e-16        0.080908   \n",
              "\n",
              "                          Humidity(%)  Wind speed (m/s)  Visibility (10m)  \\\n",
              "Rented Bike Count           -0.199780          0.121108          0.199280   \n",
              "Hour                        -0.241644          0.285197          0.098753   \n",
              "Temperature(C)               0.159371         -0.036252          0.034794   \n",
              "Humidity(%)                  1.000000         -0.336683         -0.543090   \n",
              "Wind speed (m/s)            -0.336683          1.000000          0.171507   \n",
              "Visibility (10m)            -0.543090          0.171507          1.000000   \n",
              "Dew point temperature(C)     0.536894         -0.176486         -0.176630   \n",
              "Solar Radiation (MJ/m2)     -0.461919          0.332274          0.149738   \n",
              "Rainfall(mm)                 0.236397         -0.019674         -0.167629   \n",
              "Snowfall (cm)                0.108183         -0.003554         -0.121695   \n",
              "Month                        0.047798         -0.082069          0.077888   \n",
              "Year                         0.035925         -0.003781          0.052381   \n",
              "day                          0.007047         -0.061234         -0.106859   \n",
              "\n",
              "                          Dew point temperature(C)  Solar Radiation (MJ/m2)  \\\n",
              "Rented Bike Count                         0.379788                 0.261837   \n",
              "Hour                                      0.003054                 0.145131   \n",
              "Temperature(C)                            0.912798                 0.353505   \n",
              "Humidity(%)                               0.536894                -0.461919   \n",
              "Wind speed (m/s)                         -0.176486                 0.332274   \n",
              "Visibility (10m)                         -0.176630                 0.149738   \n",
              "Dew point temperature(C)                  1.000000                 0.094381   \n",
              "Solar Radiation (MJ/m2)                   0.094381                 1.000000   \n",
              "Rainfall(mm)                              0.125597                -0.074290   \n",
              "Snowfall (cm)                            -0.150887                -0.072301   \n",
              "Month                                     0.065101                -0.030412   \n",
              "Year                                      0.336350                 0.128086   \n",
              "day                                       0.069708                -0.003446   \n",
              "\n",
              "                          Rainfall(mm)  Snowfall (cm)         Month  \\\n",
              "Rented Bike Count            -0.123074      -0.141804  7.086107e-02   \n",
              "Hour                          0.008715      -0.021516  1.036729e-15   \n",
              "Temperature(C)                0.050282      -0.218405  4.968327e-02   \n",
              "Humidity(%)                   0.236397       0.108183  4.779778e-02   \n",
              "Wind speed (m/s)             -0.019674      -0.003554 -8.206909e-02   \n",
              "Visibility (10m)             -0.167629      -0.121695  7.788783e-02   \n",
              "Dew point temperature(C)      0.125597      -0.150887  6.510073e-02   \n",
              "Solar Radiation (MJ/m2)      -0.074290      -0.072301 -3.041240e-02   \n",
              "Rainfall(mm)                  1.000000       0.008500 -2.279368e-02   \n",
              "Snowfall (cm)                 0.008500       1.000000  5.475846e-02   \n",
              "Month                        -0.022794       0.054758  1.000000e+00   \n",
              "Year                          0.027522      -0.206418 -2.955612e-01   \n",
              "day                           0.011998       0.101435  1.189318e-02   \n",
              "\n",
              "                                  Year           day  \n",
              "Rented Bike Count         2.151618e-01  4.684885e-02  \n",
              "Hour                      2.336763e-14  4.206322e-16  \n",
              "Temperature(C)            3.777958e-01  8.090791e-02  \n",
              "Humidity(%)               3.592468e-02  7.047359e-03  \n",
              "Wind speed (m/s)         -3.780878e-03 -6.123440e-02  \n",
              "Visibility (10m)          5.238110e-02 -1.068595e-01  \n",
              "Dew point temperature(C)  3.363497e-01  6.970777e-02  \n",
              "Solar Radiation (MJ/m2)   1.280860e-01 -3.445555e-03  \n",
              "Rainfall(mm)              2.752192e-02  1.199827e-02  \n",
              "Snowfall (cm)            -2.064178e-01  1.014355e-01  \n",
              "Month                    -2.955612e-01  1.189318e-02  \n",
              "Year                      1.000000e+00 -8.341689e-02  \n",
              "day                      -8.341689e-02  1.000000e+00  "
            ],
            "text/html": [
              "\n",
              "  <div id=\"df-104ad707-6321-423f-8aba-397fe65db059\">\n",
              "    <div class=\"colab-df-container\">\n",
              "      <div>\n",
              "<style scoped>\n",
              "    .dataframe tbody tr th:only-of-type {\n",
              "        vertical-align: middle;\n",
              "    }\n",
              "\n",
              "    .dataframe tbody tr th {\n",
              "        vertical-align: top;\n",
              "    }\n",
              "\n",
              "    .dataframe thead th {\n",
              "        text-align: right;\n",
              "    }\n",
              "</style>\n",
              "<table border=\"1\" class=\"dataframe\">\n",
              "  <thead>\n",
              "    <tr style=\"text-align: right;\">\n",
              "      <th></th>\n",
              "      <th>Rented Bike Count</th>\n",
              "      <th>Hour</th>\n",
              "      <th>Temperature(C)</th>\n",
              "      <th>Humidity(%)</th>\n",
              "      <th>Wind speed (m/s)</th>\n",
              "      <th>Visibility (10m)</th>\n",
              "      <th>Dew point temperature(C)</th>\n",
              "      <th>Solar Radiation (MJ/m2)</th>\n",
              "      <th>Rainfall(mm)</th>\n",
              "      <th>Snowfall (cm)</th>\n",
              "      <th>Month</th>\n",
              "      <th>Year</th>\n",
              "      <th>day</th>\n",
              "    </tr>\n",
              "  </thead>\n",
              "  <tbody>\n",
              "    <tr>\n",
              "      <th>Rented Bike Count</th>\n",
              "      <td>1.000000</td>\n",
              "      <td>4.102573e-01</td>\n",
              "      <td>0.538558</td>\n",
              "      <td>-0.199780</td>\n",
              "      <td>0.121108</td>\n",
              "      <td>0.199280</td>\n",
              "      <td>0.379788</td>\n",
              "      <td>0.261837</td>\n",
              "      <td>-0.123074</td>\n",
              "      <td>-0.141804</td>\n",
              "      <td>7.086107e-02</td>\n",
              "      <td>2.151618e-01</td>\n",
              "      <td>4.684885e-02</td>\n",
              "    </tr>\n",
              "    <tr>\n",
              "      <th>Hour</th>\n",
              "      <td>0.410257</td>\n",
              "      <td>1.000000e+00</td>\n",
              "      <td>0.124114</td>\n",
              "      <td>-0.241644</td>\n",
              "      <td>0.285197</td>\n",
              "      <td>0.098753</td>\n",
              "      <td>0.003054</td>\n",
              "      <td>0.145131</td>\n",
              "      <td>0.008715</td>\n",
              "      <td>-0.021516</td>\n",
              "      <td>1.036729e-15</td>\n",
              "      <td>2.336763e-14</td>\n",
              "      <td>4.206322e-16</td>\n",
              "    </tr>\n",
              "    <tr>\n",
              "      <th>Temperature(C)</th>\n",
              "      <td>0.538558</td>\n",
              "      <td>1.241145e-01</td>\n",
              "      <td>1.000000</td>\n",
              "      <td>0.159371</td>\n",
              "      <td>-0.036252</td>\n",
              "      <td>0.034794</td>\n",
              "      <td>0.912798</td>\n",
              "      <td>0.353505</td>\n",
              "      <td>0.050282</td>\n",
              "      <td>-0.218405</td>\n",
              "      <td>4.968327e-02</td>\n",
              "      <td>3.777958e-01</td>\n",
              "      <td>8.090791e-02</td>\n",
              "    </tr>\n",
              "    <tr>\n",
              "      <th>Humidity(%)</th>\n",
              "      <td>-0.199780</td>\n",
              "      <td>-2.416438e-01</td>\n",
              "      <td>0.159371</td>\n",
              "      <td>1.000000</td>\n",
              "      <td>-0.336683</td>\n",
              "      <td>-0.543090</td>\n",
              "      <td>0.536894</td>\n",
              "      <td>-0.461919</td>\n",
              "      <td>0.236397</td>\n",
              "      <td>0.108183</td>\n",
              "      <td>4.779778e-02</td>\n",
              "      <td>3.592468e-02</td>\n",
              "      <td>7.047359e-03</td>\n",
              "    </tr>\n",
              "    <tr>\n",
              "      <th>Wind speed (m/s)</th>\n",
              "      <td>0.121108</td>\n",
              "      <td>2.851967e-01</td>\n",
              "      <td>-0.036252</td>\n",
              "      <td>-0.336683</td>\n",
              "      <td>1.000000</td>\n",
              "      <td>0.171507</td>\n",
              "      <td>-0.176486</td>\n",
              "      <td>0.332274</td>\n",
              "      <td>-0.019674</td>\n",
              "      <td>-0.003554</td>\n",
              "      <td>-8.206909e-02</td>\n",
              "      <td>-3.780878e-03</td>\n",
              "      <td>-6.123440e-02</td>\n",
              "    </tr>\n",
              "    <tr>\n",
              "      <th>Visibility (10m)</th>\n",
              "      <td>0.199280</td>\n",
              "      <td>9.875348e-02</td>\n",
              "      <td>0.034794</td>\n",
              "      <td>-0.543090</td>\n",
              "      <td>0.171507</td>\n",
              "      <td>1.000000</td>\n",
              "      <td>-0.176630</td>\n",
              "      <td>0.149738</td>\n",
              "      <td>-0.167629</td>\n",
              "      <td>-0.121695</td>\n",
              "      <td>7.788783e-02</td>\n",
              "      <td>5.238110e-02</td>\n",
              "      <td>-1.068595e-01</td>\n",
              "    </tr>\n",
              "    <tr>\n",
              "      <th>Dew point temperature(C)</th>\n",
              "      <td>0.379788</td>\n",
              "      <td>3.054372e-03</td>\n",
              "      <td>0.912798</td>\n",
              "      <td>0.536894</td>\n",
              "      <td>-0.176486</td>\n",
              "      <td>-0.176630</td>\n",
              "      <td>1.000000</td>\n",
              "      <td>0.094381</td>\n",
              "      <td>0.125597</td>\n",
              "      <td>-0.150887</td>\n",
              "      <td>6.510073e-02</td>\n",
              "      <td>3.363497e-01</td>\n",
              "      <td>6.970777e-02</td>\n",
              "    </tr>\n",
              "    <tr>\n",
              "      <th>Solar Radiation (MJ/m2)</th>\n",
              "      <td>0.261837</td>\n",
              "      <td>1.451309e-01</td>\n",
              "      <td>0.353505</td>\n",
              "      <td>-0.461919</td>\n",
              "      <td>0.332274</td>\n",
              "      <td>0.149738</td>\n",
              "      <td>0.094381</td>\n",
              "      <td>1.000000</td>\n",
              "      <td>-0.074290</td>\n",
              "      <td>-0.072301</td>\n",
              "      <td>-3.041240e-02</td>\n",
              "      <td>1.280860e-01</td>\n",
              "      <td>-3.445555e-03</td>\n",
              "    </tr>\n",
              "    <tr>\n",
              "      <th>Rainfall(mm)</th>\n",
              "      <td>-0.123074</td>\n",
              "      <td>8.714642e-03</td>\n",
              "      <td>0.050282</td>\n",
              "      <td>0.236397</td>\n",
              "      <td>-0.019674</td>\n",
              "      <td>-0.167629</td>\n",
              "      <td>0.125597</td>\n",
              "      <td>-0.074290</td>\n",
              "      <td>1.000000</td>\n",
              "      <td>0.008500</td>\n",
              "      <td>-2.279368e-02</td>\n",
              "      <td>2.752192e-02</td>\n",
              "      <td>1.199827e-02</td>\n",
              "    </tr>\n",
              "    <tr>\n",
              "      <th>Snowfall (cm)</th>\n",
              "      <td>-0.141804</td>\n",
              "      <td>-2.151645e-02</td>\n",
              "      <td>-0.218405</td>\n",
              "      <td>0.108183</td>\n",
              "      <td>-0.003554</td>\n",
              "      <td>-0.121695</td>\n",
              "      <td>-0.150887</td>\n",
              "      <td>-0.072301</td>\n",
              "      <td>0.008500</td>\n",
              "      <td>1.000000</td>\n",
              "      <td>5.475846e-02</td>\n",
              "      <td>-2.064178e-01</td>\n",
              "      <td>1.014355e-01</td>\n",
              "    </tr>\n",
              "    <tr>\n",
              "      <th>Month</th>\n",
              "      <td>0.070861</td>\n",
              "      <td>1.036729e-15</td>\n",
              "      <td>0.049683</td>\n",
              "      <td>0.047798</td>\n",
              "      <td>-0.082069</td>\n",
              "      <td>0.077888</td>\n",
              "      <td>0.065101</td>\n",
              "      <td>-0.030412</td>\n",
              "      <td>-0.022794</td>\n",
              "      <td>0.054758</td>\n",
              "      <td>1.000000e+00</td>\n",
              "      <td>-2.955612e-01</td>\n",
              "      <td>1.189318e-02</td>\n",
              "    </tr>\n",
              "    <tr>\n",
              "      <th>Year</th>\n",
              "      <td>0.215162</td>\n",
              "      <td>2.336763e-14</td>\n",
              "      <td>0.377796</td>\n",
              "      <td>0.035925</td>\n",
              "      <td>-0.003781</td>\n",
              "      <td>0.052381</td>\n",
              "      <td>0.336350</td>\n",
              "      <td>0.128086</td>\n",
              "      <td>0.027522</td>\n",
              "      <td>-0.206418</td>\n",
              "      <td>-2.955612e-01</td>\n",
              "      <td>1.000000e+00</td>\n",
              "      <td>-8.341689e-02</td>\n",
              "    </tr>\n",
              "    <tr>\n",
              "      <th>day</th>\n",
              "      <td>0.046849</td>\n",
              "      <td>4.206322e-16</td>\n",
              "      <td>0.080908</td>\n",
              "      <td>0.007047</td>\n",
              "      <td>-0.061234</td>\n",
              "      <td>-0.106859</td>\n",
              "      <td>0.069708</td>\n",
              "      <td>-0.003446</td>\n",
              "      <td>0.011998</td>\n",
              "      <td>0.101435</td>\n",
              "      <td>1.189318e-02</td>\n",
              "      <td>-8.341689e-02</td>\n",
              "      <td>1.000000e+00</td>\n",
              "    </tr>\n",
              "  </tbody>\n",
              "</table>\n",
              "</div>\n",
              "      <button class=\"colab-df-convert\" onclick=\"convertToInteractive('df-104ad707-6321-423f-8aba-397fe65db059')\"\n",
              "              title=\"Convert this dataframe to an interactive table.\"\n",
              "              style=\"display:none;\">\n",
              "        \n",
              "  <svg xmlns=\"http://www.w3.org/2000/svg\" height=\"24px\"viewBox=\"0 0 24 24\"\n",
              "       width=\"24px\">\n",
              "    <path d=\"M0 0h24v24H0V0z\" fill=\"none\"/>\n",
              "    <path d=\"M18.56 5.44l.94 2.06.94-2.06 2.06-.94-2.06-.94-.94-2.06-.94 2.06-2.06.94zm-11 1L8.5 8.5l.94-2.06 2.06-.94-2.06-.94L8.5 2.5l-.94 2.06-2.06.94zm10 10l.94 2.06.94-2.06 2.06-.94-2.06-.94-.94-2.06-.94 2.06-2.06.94z\"/><path d=\"M17.41 7.96l-1.37-1.37c-.4-.4-.92-.59-1.43-.59-.52 0-1.04.2-1.43.59L10.3 9.45l-7.72 7.72c-.78.78-.78 2.05 0 2.83L4 21.41c.39.39.9.59 1.41.59.51 0 1.02-.2 1.41-.59l7.78-7.78 2.81-2.81c.8-.78.8-2.07 0-2.86zM5.41 20L4 18.59l7.72-7.72 1.47 1.35L5.41 20z\"/>\n",
              "  </svg>\n",
              "      </button>\n",
              "      \n",
              "  <style>\n",
              "    .colab-df-container {\n",
              "      display:flex;\n",
              "      flex-wrap:wrap;\n",
              "      gap: 12px;\n",
              "    }\n",
              "\n",
              "    .colab-df-convert {\n",
              "      background-color: #E8F0FE;\n",
              "      border: none;\n",
              "      border-radius: 50%;\n",
              "      cursor: pointer;\n",
              "      display: none;\n",
              "      fill: #1967D2;\n",
              "      height: 32px;\n",
              "      padding: 0 0 0 0;\n",
              "      width: 32px;\n",
              "    }\n",
              "\n",
              "    .colab-df-convert:hover {\n",
              "      background-color: #E2EBFA;\n",
              "      box-shadow: 0px 1px 2px rgba(60, 64, 67, 0.3), 0px 1px 3px 1px rgba(60, 64, 67, 0.15);\n",
              "      fill: #174EA6;\n",
              "    }\n",
              "\n",
              "    [theme=dark] .colab-df-convert {\n",
              "      background-color: #3B4455;\n",
              "      fill: #D2E3FC;\n",
              "    }\n",
              "\n",
              "    [theme=dark] .colab-df-convert:hover {\n",
              "      background-color: #434B5C;\n",
              "      box-shadow: 0px 1px 3px 1px rgba(0, 0, 0, 0.15);\n",
              "      filter: drop-shadow(0px 1px 2px rgba(0, 0, 0, 0.3));\n",
              "      fill: #FFFFFF;\n",
              "    }\n",
              "  </style>\n",
              "\n",
              "      <script>\n",
              "        const buttonEl =\n",
              "          document.querySelector('#df-104ad707-6321-423f-8aba-397fe65db059 button.colab-df-convert');\n",
              "        buttonEl.style.display =\n",
              "          google.colab.kernel.accessAllowed ? 'block' : 'none';\n",
              "\n",
              "        async function convertToInteractive(key) {\n",
              "          const element = document.querySelector('#df-104ad707-6321-423f-8aba-397fe65db059');\n",
              "          const dataTable =\n",
              "            await google.colab.kernel.invokeFunction('convertToInteractive',\n",
              "                                                     [key], {});\n",
              "          if (!dataTable) return;\n",
              "\n",
              "          const docLinkHtml = 'Like what you see? Visit the ' +\n",
              "            '<a target=\"_blank\" href=https://colab.research.google.com/notebooks/data_table.ipynb>data table notebook</a>'\n",
              "            + ' to learn more about interactive tables.';\n",
              "          element.innerHTML = '';\n",
              "          dataTable['output_type'] = 'display_data';\n",
              "          await google.colab.output.renderOutput(dataTable, element);\n",
              "          const docLink = document.createElement('div');\n",
              "          docLink.innerHTML = docLinkHtml;\n",
              "          element.appendChild(docLink);\n",
              "        }\n",
              "      </script>\n",
              "    </div>\n",
              "  </div>\n",
              "  "
            ]
          },
          "metadata": {},
          "execution_count": 26
        }
      ]
    },
    {
      "cell_type": "markdown",
      "source": [
        "Checking Correlation"
      ],
      "metadata": {
        "id": "W1B-LKg5yr7_"
      }
    },
    {
      "cell_type": "code",
      "source": [
        "import matplotlib.pyplot as plt"
      ],
      "metadata": {
        "id": "OwRbR9RQzKhT"
      },
      "execution_count": 27,
      "outputs": []
    },
    {
      "cell_type": "code",
      "source": [
        "plt.figure(figsize=(10,10))\n",
        "sns.heatmap(data_corr, annot=True, cmap='cubehelix_r',square=True) \n",
        "plt.show()"
      ],
      "metadata": {
        "colab": {
          "base_uri": "https://localhost:8080/",
          "height": 660
        },
        "id": "GDIXumGTxwj0",
        "outputId": "279f1bb2-f296-484e-cde0-5fd5cb8ab200"
      },
      "execution_count": 28,
      "outputs": [
        {
          "output_type": "display_data",
          "data": {
            "text/plain": [
              "<Figure size 720x720 with 2 Axes>"
            ],
            "image/png": "[encoded data removed]"
          },
          "metadata": {
            "needs_background": "light"
          }
        }
      ]
    },
    {
      "cell_type": "markdown",
      "source": [
        "Rented Bike Count has a good correlation with Temperature, Temperature is highly correlated with Dew point Temperature, Humidity has a good correlation with Dew point Temperature, "
      ],
      "metadata": {
        "id": "v5m3RPZy2jw9"
      }
    },
    {
      "cell_type": "code",
      "source": [
        "data.drop('Date',axis =1,inplace= True)"
      ],
      "metadata": {
        "id": "K_YKvaJlDDA_"
      },
      "execution_count": 38,
      "outputs": []
    },
    {
      "cell_type": "code",
      "source": [
        "from sklearn.preprocessing import LabelEncoder\n",
        "le = LabelEncoder()\n",
        "data['Seasons'] = le.fit_transform(data['Seasons'])\n",
        "data['Seasons'].unique()"
      ],
      "metadata": {
        "colab": {
          "base_uri": "https://localhost:8080/"
        },
        "id": "EQaB3ZsTD23S",
        "outputId": "6b719378-4729-4183-9f48-8cb968065850"
      },
      "execution_count": 45,
      "outputs": [
        {
          "output_type": "execute_result",
          "data": {
            "text/plain": [
              "array([3, 1, 2, 0])"
            ]
          },
          "metadata": {},
          "execution_count": 45
        }
      ]
    },
    {
      "cell_type": "code",
      "source": [
        "data['Holiday'] = le.fit_transform(data['Holiday'])\n",
        "data['Functioning Day'] = le.fit_transform(data['Functioning Day'])"
      ],
      "metadata": {
        "id": "3fNXpVEjFR7i"
      },
      "execution_count": 46,
      "outputs": []
    },
    {
      "cell_type": "code",
      "source": [
        "data.info()"
      ],
      "metadata": {
        "colab": {
          "base_uri": "https://localhost:8080/"
        },
        "id": "wc0L7_6RFw9Z",
        "outputId": "2a86f0e6-b202-4bab-ba5f-01e572628f16"
      },
      "execution_count": 47,
      "outputs": [
        {
          "output_type": "stream",
          "name": "stdout",
          "text": [
            "<class 'pandas.core.frame.DataFrame'>\n",
            "RangeIndex: 8760 entries, 0 to 8759\n",
            "Data columns (total 16 columns):\n",
            " #   Column                    Non-Null Count  Dtype  \n",
            "---  ------                    --------------  -----  \n",
            " 0   Rented Bike Count         8760 non-null   int64  \n",
            " 1   Hour                      8760 non-null   int64  \n",
            " 2   Temperature(C)            8760 non-null   float64\n",
            " 3   Humidity(%)               8760 non-null   int64  \n",
            " 4   Wind speed (m/s)          8760 non-null   float64\n",
            " 5   Visibility (10m)          8760 non-null   int64  \n",
            " 6   Dew point temperature(C)  8760 non-null   float64\n",
            " 7   Solar Radiation (MJ/m2)   8760 non-null   float64\n",
            " 8   Rainfall(mm)              8760 non-null   float64\n",
            " 9   Snowfall (cm)             8760 non-null   float64\n",
            " 10  Seasons                   8760 non-null   int64  \n",
            " 11  Holiday                   8760 non-null   int64  \n",
            " 12  Functioning Day           8760 non-null   int64  \n",
            " 13  Month                     8760 non-null   int64  \n",
            " 14  Year                      8760 non-null   int64  \n",
            " 15  day                       8760 non-null   int64  \n",
            "dtypes: float64(6), int64(10)\n",
            "memory usage: 1.1 MB\n"
          ]
        }
      ]
    },
    {
      "cell_type": "code",
      "source": [
        "from sklearn.model_selection import train_test_split\n",
        "train, val = train_test_split(data,test_size=0.25)"
      ],
      "metadata": {
        "id": "YR3ij59g--jK"
      },
      "execution_count": 48,
      "outputs": []
    },
    {
      "cell_type": "code",
      "source": [
        "train_x = train.drop(['Rented Bike Count'], axis = 1)\n",
        "train_y = train['Rented Bike Count']             # output of the training data\n",
        "\n",
        "val_x = val.drop(['Rented Bike Count'], axis = 1)\n",
        "val_y = val['Rented Bike Count'] "
      ],
      "metadata": {
        "id": "GtVz4zP2_qOI"
      },
      "execution_count": 49,
      "outputs": []
    },
    {
      "cell_type": "code",
      "source": [
        "print('Dimension of train_x dataframe:',train_x.shape)\n",
        "print('Dimension of train_y dataframe:',train_y.shape)\n",
        "print('Dimension of val_x dataframe:',val_x.shape)\n",
        "print('Dimension of val_y dataframe:',val_y.shape)\n"
      ],
      "metadata": {
        "colab": {
          "base_uri": "https://localhost:8080/"
        },
        "id": "lcYl8wK-AmuZ",
        "outputId": "8970c719-1eb3-4607-d390-9bd8c89330e4"
      },
      "execution_count": 50,
      "outputs": [
        {
          "output_type": "stream",
          "name": "stdout",
          "text": [
            "Dimension of train_x dataframe: (6570, 15)\n",
            "Dimension of train_y dataframe: (6570,)\n",
            "Dimension of val_x dataframe: (2190, 15)\n",
            "Dimension of val_y dataframe: (2190,)\n"
          ]
        }
      ]
    },
    {
      "cell_type": "code",
      "source": [
        "from sklearn.linear_model import LinearRegression"
      ],
      "metadata": {
        "id": "J1uYomjYxwo5"
      },
      "execution_count": 51,
      "outputs": []
    },
    {
      "cell_type": "code",
      "source": [
        "ln_reg = LinearRegression()\n",
        "ln_reg.fit(train_x, train_y)"
      ],
      "metadata": {
        "colab": {
          "base_uri": "https://localhost:8080/"
        },
        "id": "J4W-nwB53oD-",
        "outputId": "7faf3828-83f9-45ce-8a8e-49a59eb82d45"
      },
      "execution_count": 52,
      "outputs": [
        {
          "output_type": "execute_result",
          "data": {
            "text/plain": [
              "LinearRegression()"
            ]
          },
          "metadata": {},
          "execution_count": 52
        }
      ]
    },
    {
      "cell_type": "code",
      "source": [
        "from sklearn.metrics import mean_squared_error,mean_absolute_error, r2_score\n",
        "\n",
        "df_pred = ln_reg.predict(val_x)\n",
        "print('Mean Absolute Error of linear regression:',mean_absolute_error(df_pred, val_y))\n",
        "print('Mean Square Error of linear regression:', mean_squared_error(df_pred, val_y))\n",
        "print('R_Squared Score of linear regression:', r2_score(df_pred, val_y))"
      ],
      "metadata": {
        "colab": {
          "base_uri": "https://localhost:8080/"
        },
        "id": "u-cBIJaJF35x",
        "outputId": "69b35514-2580-4584-82ef-be0ea049e5b2"
      },
      "execution_count": 53,
      "outputs": [
        {
          "output_type": "stream",
          "name": "stdout",
          "text": [
            "Mean Absolute Error of linear regression: 330.9407437866732\n",
            "Mean Square Error of linear regression: 200677.073042377\n",
            "R_Squared Score of linear regression: 0.11977917598088417\n"
          ]
        }
      ]
    },
    {
      "cell_type": "code",
      "source": [
        "from sklearn.linear_model import Ridge\n",
        "\n",
        "ridge = Ridge()\n",
        "ridge"
      ],
      "metadata": {
        "colab": {
          "base_uri": "https://localhost:8080/"
        },
        "id": "xcgKRdJ_GMKY",
        "outputId": "fbfe37f7-d875-4c29-9561-a6a4bf517e86"
      },
      "execution_count": 54,
      "outputs": [
        {
          "output_type": "execute_result",
          "data": {
            "text/plain": [
              "Ridge()"
            ]
          },
          "metadata": {},
          "execution_count": 54
        }
      ]
    },
    {
      "cell_type": "code",
      "source": [
        "ridge.fit(train_x,train_y)\n",
        "ridge_score = ridge.score(val_x,val_y)\n",
        "coeff_used = np.sum(ridge.coef_ != 0)\n",
        "ridge.coef_"
      ],
      "metadata": {
        "colab": {
          "base_uri": "https://localhost:8080/"
        },
        "id": "UozXITY3GOh3",
        "outputId": "6f3b6495-0578-461d-d034-42e8141633dd"
      },
      "execution_count": 55,
      "outputs": [
        {
          "output_type": "execute_result",
          "data": {
            "text/plain": [
              "array([ 2.65097396e+01,  1.11918129e+01, -1.35082005e+01,  1.72195503e+01,\n",
              "        8.69620711e-03,  2.04013764e+01, -8.50308906e+01, -5.24488950e+01,\n",
              "        3.58452019e+01, -1.06321448e+02,  1.35309189e+02,  9.20564582e+02,\n",
              "        1.19525826e+00, -6.80369782e+01, -1.26011156e+00])"
            ]
          },
          "metadata": {},
          "execution_count": 55
        }
      ]
    },
    {
      "cell_type": "code",
      "source": [
        "print(\"training score\",ridge_score)\n",
        "print(\"number of feature used:\",coeff_used)"
      ],
      "metadata": {
        "colab": {
          "base_uri": "https://localhost:8080/"
        },
        "id": "JKsBP9fMGQ8i",
        "outputId": "049ea2c0-f711-464b-c881-1ee88e17c721"
      },
      "execution_count": 56,
      "outputs": [
        {
          "output_type": "stream",
          "name": "stdout",
          "text": [
            "training score 0.5347142007941728\n",
            "number of feature used: 15\n"
          ]
        }
      ]
    },
    {
      "cell_type": "code",
      "source": [
        "from sklearn.linear_model import Lasso \n",
        "lasso = Lasso()\n",
        "lasso"
      ],
      "metadata": {
        "colab": {
          "base_uri": "https://localhost:8080/"
        },
        "id": "6EMzjCf8GUdi",
        "outputId": "39e073cc-4c12-49a0-b72a-091170757580"
      },
      "execution_count": 57,
      "outputs": [
        {
          "output_type": "execute_result",
          "data": {
            "text/plain": [
              "Lasso()"
            ]
          },
          "metadata": {},
          "execution_count": 57
        }
      ]
    },
    {
      "cell_type": "code",
      "source": [
        "lasso.fit(train_x,train_y)\n",
        "lasso_score = lasso.score(val_x,val_y)\n",
        "coeff_used = np.sum(lasso.coef_ != 0)\n",
        "lasso.coef_"
      ],
      "metadata": {
        "colab": {
          "base_uri": "https://localhost:8080/"
        },
        "id": "jKqiYYPBGYJO",
        "outputId": "e68935eb-be1a-48c5-acd3-d961d914a000"
      },
      "execution_count": 58,
      "outputs": [
        {
          "output_type": "stream",
          "name": "stderr",
          "text": [
            "/usr/local/lib/python3.7/dist-packages/sklearn/linear_model/_coordinate_descent.py:648: ConvergenceWarning: Objective did not converge. You might want to increase the number of iterations, check the scale of the features or consider increasing regularisation. Duality gap: 1.681e+06, tolerance: 2.699e+05\n",
            "  coef_, l1_reg, l2_reg, X, y, max_iter, tol, rng, random, positive\n"
          ]
        },
        {
          "output_type": "execute_result",
          "data": {
            "text/plain": [
              "array([ 2.66476524e+01,  1.13225951e+01, -1.32672516e+01,  1.52551766e+01,\n",
              "        9.37810022e-03,  1.99300519e+01, -8.11998260e+01, -5.18553633e+01,\n",
              "        3.04703705e+01, -1.01154848e+02,  1.12568305e+02,  8.89671858e+02,\n",
              "        2.08605533e+00, -4.17257338e+01, -1.08199765e+00])"
            ]
          },
          "metadata": {},
          "execution_count": 58
        }
      ]
    },
    {
      "cell_type": "code",
      "source": [
        "print(\"training score\",lasso_score)\n",
        "print(\"number of feature used:\",coeff_used)"
      ],
      "metadata": {
        "colab": {
          "base_uri": "https://localhost:8080/"
        },
        "id": "R8rC0V3FGaQ_",
        "outputId": "81e64104-3d60-4aa6-8ebe-00bf0878effb"
      },
      "execution_count": 59,
      "outputs": [
        {
          "output_type": "stream",
          "name": "stdout",
          "text": [
            "training score 0.5345669318779394\n",
            "number of feature used: 15\n"
          ]
        }
      ]
    },
    {
      "cell_type": "markdown",
      "source": [
        "Ridge score = 0.5347142007941728 ,\n",
        "Lasso score = 0.5345669318779394"
      ],
      "metadata": {
        "id": "SBVU_QzgGe0x"
      }
    }
  ]
}